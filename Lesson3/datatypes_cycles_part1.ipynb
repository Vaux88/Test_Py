{
 "cells": [
  {
   "cell_type": "markdown",
   "metadata": {},
   "source": [
    "### Задание 1"
   ]
  },
  {
   "cell_type": "code",
   "execution_count": 24,
   "metadata": {},
   "outputs": [
    {
     "name": "stdout",
     "output_type": "stream",
     "text": [
      "введите слово латиницей: test\n",
      "es\n"
     ]
    }
   ],
   "source": [
    "# Напишите код, который выводит на экран:\n",
    "#     - среднюю букву, если число букв в слове нечетное\n",
    "#     - две средних буквы, если число букв четное\n",
    "\n",
    "\n",
    "word = input('введите слово латиницей: ')\n",
    "w1 = len(word)\n",
    "w2 = w1 / 2\n",
    "\n",
    "if w1 % 2 !=0:\n",
    "    print(word[int(w2)])\n",
    "    \n",
    "elif w1 % 2 ==0:\n",
    "    print(word[int(w2)-1],end = \"\") \n",
    "    print(word[int(w2)])\n"
   ]
  },
  {
   "cell_type": "markdown",
   "metadata": {},
   "source": [
    "### Задание 2"
   ]
  },
  {
   "cell_type": "code",
   "execution_count": 19,
   "metadata": {},
   "outputs": [
    {
     "name": "stdout",
     "output_type": "stream",
     "text": [
      "Введите целое число: 1\n",
      "Введите целое число: 1\n",
      "Введите целое число: 1\n",
      "Введите целое число: 0\n",
      "3\n"
     ]
    }
   ],
   "source": [
    "# Напишите программу, которая последовательно запрашивает у пользователя числа (по одному за раз) \n",
    "# и после первого нуля выводит сумму всех ранее введенных чисел.\n",
    "\n",
    "i = int(input('Введите целое число: '))\n",
    "sum = 0\n",
    "\n",
    "while i != 0:\n",
    "    sum += i\n",
    "    i = int(input('Введите целое число: '))\n",
    "    \n",
    "print(sum)"
   ]
  },
  {
   "cell_type": "markdown",
   "metadata": {},
   "source": [
    "### Задание 3"
   ]
  },
  {
   "cell_type": "code",
   "execution_count": 7,
   "metadata": {},
   "outputs": [
    {
     "name": "stdout",
     "output_type": "stream",
     "text": [
      "Идеальные пары:\n",
      "Alex и Emma\n",
      "Arthur и Kate\n",
      "John и Kira\n",
      "Peter и Liza\n",
      "Richard и Trisha\n"
     ]
    }
   ],
   "source": [
    "# Выдвигаем гипотезу: лучшие рекомендации мы получим, если просто отсортируем имена по алфавиту \n",
    "# и познакомим людей с одинаковыми индексами после сортировки!\n",
    "\n",
    "\n",
    "boys = ['Peter', 'Alex', 'John', 'Arthur', 'Richard']\n",
    "girls = ['Kate', 'Liza', 'Kira', 'Emma', 'Trisha']\n",
    "\n",
    "boys.sort()\n",
    "girls.sort()\n",
    "\n",
    "if len(boys) == len(girls):\n",
    "    i = zip (boys, girls)\n",
    "    print(\"Идеальные пары:\")\n",
    "    for couples in i:\n",
    "#         print(couples)\n",
    "        print (f\"{couples[0]} и {couples[1]}\")\n",
    "else:\n",
    "    print(\"Внимание, кто-то может остаться без пары!\")\n",
    "\n"
   ]
  },
  {
   "cell_type": "markdown",
   "metadata": {},
   "source": [
    "### Задание 4"
   ]
  },
  {
   "cell_type": "code",
   "execution_count": 16,
   "metadata": {},
   "outputs": [
    {
     "name": "stdout",
     "output_type": "stream",
     "text": [
      "Thailand - 23.9 C\n",
      "Germany - 13.8 C\n",
      "Russia - 3.7 C\n",
      "Poland - 12.0 C\n"
     ]
    }
   ],
   "source": [
    "# Необходимо написать код, который рассчитает среднюю температуру за период в Цельсиях(!) для каждой страны\n",
    "\n",
    "countries_temperature = [\n",
    "['Thailand', [75.2, 77, 78.8, 73.4, 68, 75.2, 77]],\n",
    "['Germany', [57.2, 55.4, 59, 59, 53.6]],\n",
    "['Russia', [35.6, 37.4, 39.2, 41, 42.8, 39.2, 35.6]],\n",
    "['Poland', [50, 50, 53.6, 57.2, 55.4, 55.4]]\n",
    "]\n",
    "\n",
    "for i in countries_temperature:\n",
    "    print(i[0], '-', round((sum(i[1]) / len(i[1]) - 32) / 1.8, 1), 'C')\n",
    "    "
   ]
  }
 ],
 "metadata": {
  "kernelspec": {
   "display_name": "Python 3",
   "language": "python",
   "name": "python3"
  },
  "language_info": {
   "codemirror_mode": {
    "name": "ipython",
    "version": 3
   },
   "file_extension": ".py",
   "mimetype": "text/x-python",
   "name": "python",
   "nbconvert_exporter": "python",
   "pygments_lexer": "ipython3",
   "version": "3.8.5"
  }
 },
 "nbformat": 4,
 "nbformat_minor": 4
}

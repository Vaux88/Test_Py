{
 "cells": [
  {
   "cell_type": "markdown",
   "metadata": {},
   "source": [
    "### Задание 1"
   ]
  },
  {
   "cell_type": "code",
   "execution_count": 3,
   "metadata": {},
   "outputs": [
    {
     "name": "stdout",
     "output_type": "stream",
     "text": [
      "введите первую фразу: Фраза1\n",
      "введите вторую фразу: Фраза11\n",
      "Фраза 2 длиннее Фразы 1\n"
     ]
    }
   ],
   "source": [
    "phrase_1 = input('введите первую фразу: ')\n",
    "phrase_2 = input('введите вторую фразу: ')\n",
    "\n",
    "if len(phrase_1) > len(phrase_2):\n",
    "    print('Фраза 1 длиннее Фразы 2')\n",
    "    \n",
    "elif len(phrase_2) > len(phrase_1):\n",
    "    print('Фраза 2 длиннее Фразы 1')\n",
    "\n",
    "else:\n",
    "    print('Фразы равной длинны')"
   ]
  },
  {
   "cell_type": "markdown",
   "metadata": {},
   "source": [
    "### Задание 2"
   ]
  },
  {
   "cell_type": "code",
   "execution_count": 19,
   "metadata": {},
   "outputs": [
    {
     "name": "stdout",
     "output_type": "stream",
     "text": [
      "введите год: 2008\n",
      "Високосный год\n"
     ]
    }
   ],
   "source": [
    "year = int(input('введите год: '))\n",
    "# year = 2020\n",
    "if (year % 4 == 0) and (year % 100 != 0) or (year % 400 == 0):\n",
    "    print('Високосный год')\n",
    "else:\n",
    "    print('Обычный год')\n"
   ]
  },
  {
   "cell_type": "code",
   "execution_count": 20,
   "metadata": {},
   "outputs": [
    {
     "name": "stdout",
     "output_type": "stream",
     "text": [
      "1999 - обычный год\n",
      "2000 - Високостный год\n",
      "2001 - обычный год\n",
      "2002 - обычный год\n",
      "2003 - обычный год\n",
      "2004 - Високостный год\n",
      "2005 - обычный год\n",
      "2006 - обычный год\n",
      "2007 - обычный год\n",
      "2008 - Високостный год\n",
      "2009 - обычный год\n",
      "2010 - обычный год\n"
     ]
    }
   ],
   "source": [
    "for i in range (1999, 2011):\n",
    "    if (i % 4 == 0) and (i % 100 != 0) or (i % 400 == 0):\n",
    "        print(i, '- Високостный год')\n",
    "    else:\n",
    "        print(i, '- обычный год' )"
   ]
  },
  {
   "cell_type": "markdown",
   "metadata": {},
   "source": [
    "### Задание 3"
   ]
  },
  {
   "cell_type": "code",
   "execution_count": 4,
   "metadata": {},
   "outputs": [
    {
     "name": "stdout",
     "output_type": "stream",
     "text": [
      "введите день: 5\n",
      "введите месяц: март\n",
      "Ваш знак зодиака: Рыбы\n"
     ]
    }
   ],
   "source": [
    "# Необходимо написать программу, которая будет запрашивать у пользователя месяц и дату рождения \n",
    "# и выводить соответствующий знак зодиака.\n",
    "\n",
    "day = int(input('введите день: '))\n",
    "month = input('введите месяц: ')\n",
    "\n",
    "if (day >= 21 and day <= 31 and month == \"март\") or (day >= 1 and day <= 19 and month == \"апрель\"):\n",
    "    print(\"Ваш знак зодиака: Овен\")\n",
    "    \n",
    "elif (day >= 20 and day <= 30 and month == \"апрель\") or (day >= 1 and day <= 20 and month == \"май\"):\n",
    "    print(\"Ваш знак зодиака: Телец\")\n",
    "    \n",
    "elif (day >= 21 and day <= 31 and month == \"май\") or (day >= 1 and day <= 20 and month == \"июнь\"):\n",
    "    print(\"Ваш знак зодиака: Близнецы\")\n",
    "    \n",
    "elif (day >= 21 and day <= 30 and month == \"июнь\") or (day >= 1 and day <= 22 and month == \"июль\"):\n",
    "    print(\"Ваш знак зодиака: Рак\")\n",
    "    \n",
    "elif (day >= 23 and day <= 31 and month == \"июль\") or (day >= 1 and day <= 22 and month == \"август\"):\n",
    "    print(\"Ваш знак зодиака: Лев\")\n",
    "    \n",
    "elif (day >= 23 and day <= 31 and month == \"август\") or (day >= 1 and day <= 22 and month == \"сентябрь\"):\n",
    "    print(\"Ваш знак зодиака: Дева\")\n",
    "    \n",
    "elif (day >= 23 and day <= 30 and month == \"сентябрь\") or (day >= 1 and day <= 22 and month == \"октябрь\"):\n",
    "    print(\"Ваш знак зодиака: Весы\")\n",
    "    \n",
    "elif (day >= 23 and day <= 31 and month == \"октябрь\") or (day >= 1 and day <= 21 and month == \"ноябрь\"):\n",
    "    print(\"Ваш знак зодиака: Скорпион\")\n",
    "    \n",
    "elif (day >= 22 and day <= 30 and month == \"ноябрь\") or (day >= 1 and day <= 21 and month == \"декабрь\"):\n",
    "    print(\"Ваш знак зодиака: Стрелец\")\n",
    "    \n",
    "elif (day >= 22 and day <= 31 and month == \"декабрь\") or (day >= 1 and day <= 19 and month == \"январь\"):\n",
    "    print(\"Ваш знак зодиака: Козерог\")\n",
    "    \n",
    "elif (day >= 20 and day <= 31 and month == \"январь\") or (day >= 1 and day <= 18 and month == \"февраль\"):\n",
    "    print(\"Ваш знак зодиака: Водолей\")\n",
    "\n",
    "elif (day >= 19 and day <= 29 and month == \"февраль\") or (day >= 1 and day <= 20 and month == \"март\"):\n",
    "    print(\"Ваш знак зодиака: Рыбы\")"
   ]
  },
  {
   "cell_type": "markdown",
   "metadata": {},
   "source": [
    "### Задание 4"
   ]
  },
  {
   "cell_type": "code",
   "execution_count": 13,
   "metadata": {},
   "outputs": [
    {
     "name": "stdout",
     "output_type": "stream",
     "text": [
      "введите ширину в см: 45\n",
      "введите длину в см: 201\n",
      "введите выстоту в см: 45\n",
      "Упаковка для лыж\n"
     ]
    }
   ],
   "source": [
    "# Вам нужно написать программу для подбора упаковок по размерам товара. \n",
    "# Размеры хранятся в переменных (в сантиметрах):\n",
    "\n",
    "# width = 10\n",
    "# length = 205\n",
    "# height = 5\n",
    "\n",
    "width = float(input('введите ширину в см: '))\n",
    "length = float(input('введите длину в см: '))\n",
    "height = float(input('введите выстоту в см: '))\n",
    "\n",
    "if width < 15 and length < 15 and height < 15:\n",
    "    print(\"Коробка №1\")\n",
    "elif length > 200:\n",
    "    print(\"Упаковка для лыж\")\n",
    "elif (width >= 15 and width < 50) or (length >= 15 and length < 50) or (height >= 15 and height < 50):\n",
    "    print(\"Коробка №2\")\n",
    "else:\n",
    "    print(\"Стандартная коробка №3\")\n",
    "\n"
   ]
  },
  {
   "cell_type": "markdown",
   "metadata": {},
   "source": [
    "### Задание 5"
   ]
  },
  {
   "cell_type": "code",
   "execution_count": 57,
   "metadata": {},
   "outputs": [
    {
     "name": "stdout",
     "output_type": "stream",
     "text": [
      "введите 6ти значный номер билета: 125521\n",
      "Счастливый билет\n"
     ]
    }
   ],
   "source": [
    "# Напишите программу, которая будет определять, является ли данный билет “счастливым”\n",
    "\n",
    "ticket = str(input('введите 6ти значный номер билета: '))\n",
    "\n",
    "# print(int(ticket[0])+int(ticket[1])+int(ticket[2]))\n",
    "\n",
    "if int(ticket[0])+int(ticket[1])+int(ticket[2]) == int(ticket[3])+int(ticket[4])+int(ticket[5]):\n",
    "    print('Счастливый билет')\n",
    "else:\n",
    "    print('Несчастливый билет')\n"
   ]
  },
  {
   "cell_type": "markdown",
   "metadata": {},
   "source": [
    "### Задание 6"
   ]
  },
  {
   "cell_type": "code",
   "execution_count": 77,
   "metadata": {},
   "outputs": [
    {
     "name": "stdout",
     "output_type": "stream",
     "text": [
      "введите тип фигуры: круг\n",
      "введите радиус круга: 5\n",
      "15.707500000000001\n"
     ]
    }
   ],
   "source": [
    "# Напишите программу, которая сможет вычислять площади трех фигур (круг, треугольник и прямоугольник)\n",
    "\n",
    "figure = str(input('введите тип фигуры: '))\n",
    "\n",
    "if figure == str('круг'):\n",
    "    radius = float(input('введите радиус круга: '))\n",
    "    circle_square = radius * 3.1415\n",
    "    print(circle_square)\n",
    "elif figure == str('треугольник'):\n",
    "    side1 = float(input('введите длинну стороны 1: '))\n",
    "    side2 = float(input('введите длинну стороны 2: '))\n",
    "    side3 = float(input('введите длинну стороны 3: '))\n",
    "    p = (side1 + side2 + side3) / 2\n",
    "    triangle_square = (p * (p-side1) * (p-side2) * (p-side3)) ** (1/2)\n",
    "    print(triangle_square)\n",
    "elif figure == str('прямоугольник'):\n",
    "    sideA = float(input('введите длинну стороны 1: '))\n",
    "    sideB = float(input('введите длинну стороны 2: '))\n",
    "    rectangle_square = sideA * sideB\n",
    "    print(rectangle_square)\n",
    "else:\n",
    "    print('Указанная Вами фигура не входит в инструментарий данной программы')\n",
    "    \n",
    "    "
   ]
  }
 ],
 "metadata": {
  "kernelspec": {
   "display_name": "Python 3",
   "language": "python",
   "name": "python3"
  },
  "language_info": {
   "codemirror_mode": {
    "name": "ipython",
    "version": 3
   },
   "file_extension": ".py",
   "mimetype": "text/x-python",
   "name": "python",
   "nbconvert_exporter": "python",
   "pygments_lexer": "ipython3",
   "version": "3.8.5"
  }
 },
 "nbformat": 4,
 "nbformat_minor": 4
}

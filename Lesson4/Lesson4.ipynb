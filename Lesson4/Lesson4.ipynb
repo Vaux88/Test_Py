{
 "cells": [
  {
   "cell_type": "markdown",
   "metadata": {},
   "source": [
    "### Задание 1"
   ]
  },
  {
   "cell_type": "code",
   "execution_count": 15,
   "metadata": {},
   "outputs": [
    {
     "name": "stdout",
     "output_type": "stream",
     "text": [
      "{98, 35, 15, 213, 54, 119}\n"
     ]
    }
   ],
   "source": [
    "# Необходимо написать программу, которая выведет на экран множество уникальных гео-меток всех пользователей\n",
    "\n",
    "ids = {'user1': [213, 213, 213, 15, 213], \n",
    "       'user2': [54, 54, 119, 119, 119], \n",
    "       'user3': [213, 98, 98, 35]}\n",
    "\n",
    "Values = list(ids.values())\n",
    "ValueTotal=sum(Values, [])\n",
    "\n",
    "GeoValues=set(ValueTotal)\n",
    "print(GeoValues)"
   ]
  },
  {
   "cell_type": "markdown",
   "metadata": {},
   "source": [
    "### Задание 2"
   ]
  },
  {
   "cell_type": "code",
   "execution_count": 26,
   "metadata": {},
   "outputs": [
    {
     "name": "stdout",
     "output_type": "stream",
     "text": [
      "Поисковых запросов, содержащих 3 слов(а): 57.14 %\n",
      "Поисковых запросов, содержащих 2 слов(а): 42.86 %\n"
     ]
    }
   ],
   "source": [
    "# Необходимо написать программу, которая выведет на экран распределение количества слов в запросах в требуемом виде\n",
    "\n",
    "queries = [\n",
    "    'смотреть сериалы онлайн',\n",
    "    'новости спорта',\n",
    "    'афиша кино',\n",
    "    'курс доллара',\n",
    "    'сериалы этим летом',\n",
    "    'курс по питону',\n",
    "    'сериалы про спорт',\n",
    "]\n",
    "\n",
    "\n",
    "a = []\n",
    "res = {}\n",
    "\n",
    "for i in range(len(queries)):\n",
    "#     queries[i].split(' ')\n",
    "    a.append(len(queries[i].split(' ')))\n",
    "    \n",
    "# print(a)\n",
    "\n",
    "for num in a:\n",
    "    if num not in res:\n",
    "        res[num] = 1\n",
    "    else:\n",
    "        res[num] += 1\n",
    "    \n",
    "for w, count in res.items():\n",
    "    percentage = round((count / len(queries)) * 100, 2)\n",
    "    print(f'Поисковых запросов, содержащих {w} слов(а): {percentage} %')\n"
   ]
  },
  {
   "cell_type": "markdown",
   "metadata": {},
   "source": [
    "### Задание 3"
   ]
  },
  {
   "cell_type": "code",
   "execution_count": 79,
   "metadata": {},
   "outputs": [
    {
     "name": "stdout",
     "output_type": "stream",
     "text": [
      "vk {'revenue': 103, 'cost': 98, 'ROI': 5.1}\n",
      "yandex {'revenue': 179, 'cost': 153, 'ROI': 16.99}\n",
      "facebook {'revenue': 103, 'cost': 110, 'ROI': -6.36}\n",
      "adwords {'revenue': 35, 'cost': 34, 'ROI': 2.94}\n",
      "twitter {'revenue': 11, 'cost': 24, 'ROI': -54.17}\n"
     ]
    }
   ],
   "source": [
    "# Необходимо дополнить исходную структуру показателем ROI, \n",
    "# который рассчитаем по формуле: (revenue / cost - 1) * 100\n",
    "\n",
    "results = {\n",
    "    'vk': {'revenue': 103, 'cost': 98},\n",
    "    'yandex': {'revenue': 179, 'cost': 153},\n",
    "    'facebook': {'revenue': 103, 'cost': 110},\n",
    "    'adwords': {'revenue': 35, 'cost': 34},\n",
    "    'twitter': {'revenue': 11, 'cost': 24},\n",
    "}\n",
    "\n",
    "# print(list(results.items()))\n",
    "# print()\n",
    "\n",
    "for company, roi in results.items():\n",
    "    roi['ROI'] = round(((roi['revenue'] / roi['cost']) - 1)*100 , 2)\n",
    "    print(company, roi)"
   ]
  },
  {
   "cell_type": "markdown",
   "metadata": {},
   "source": [
    "### Задание 4"
   ]
  },
  {
   "cell_type": "code",
   "execution_count": 35,
   "metadata": {},
   "outputs": [
    {
     "name": "stdout",
     "output_type": "stream",
     "text": [
      "Максимальный объем продаж на рекламном канале: vk\n"
     ]
    }
   ],
   "source": [
    "# Напишите программу, которая возвращает название канала с максимальным объемом продаж\n",
    "\n",
    "stats = {'facebook': 55, 'yandex': 115, 'vk': 120, 'google': 99, 'email': 42, 'ok': 98}\n",
    "\n",
    "for chanel, sales in stats.items():\n",
    "    if sales == max(stats.values()):\n",
    "        print(\"Максимальный объем продаж на рекламном канале:\",chanel)\n",
    "    \n",
    "    \n",
    "#     print(chanel, sales)\n",
    "    "
   ]
  },
  {
   "cell_type": "markdown",
   "metadata": {},
   "source": [
    "### Задание 6"
   ]
  },
  {
   "cell_type": "code",
   "execution_count": 78,
   "metadata": {},
   "outputs": [
    {
     "name": "stdout",
     "output_type": "stream",
     "text": [
      "Введите кол-во персон: 5\n",
      "\n",
      "Салат\n",
      "сыр 250 гр\n",
      "томаты 10 шт\n",
      "огурцы 100 гр\n",
      "маслины 50 гр\n",
      "оливковое масло 100 мл\n",
      "салат 50 гр\n",
      "перец 100 гр\n",
      "\n",
      "Пицца\n",
      "сыр 100 гр\n",
      "колбаса 150 гр\n",
      "бекон 150 гр\n",
      "оливки 50 гр\n",
      "томаты 100 гр\n",
      "тесто 500 гр\n",
      "\n",
      "Лимонад\n",
      "лимон 5 шт\n",
      "вода 1000 мл\n",
      "сахар 50 гр\n",
      "лайм 100 гр\n",
      "\n"
     ]
    }
   ],
   "source": [
    "cook_book = {\n",
    "  'салат': [\n",
    "     {'ingridient_name': 'сыр', 'quantity': 50, 'measure': 'гр'},\n",
    "     {'ingridient_name': 'томаты', 'quantity': 2, 'measure': 'шт'},\n",
    "     {'ingridient_name': 'огурцы', 'quantity': 20, 'measure': 'гр'},\n",
    "     {'ingridient_name': 'маслины', 'quantity': 10, 'measure': 'гр'},\n",
    "     {'ingridient_name': 'оливковое масло', 'quantity': 20, 'measure': 'мл'},\n",
    "     {'ingridient_name': 'салат', 'quantity': 10, 'measure': 'гр'},\n",
    "     {'ingridient_name': 'перец', 'quantity': 20, 'measure': 'гр'}\n",
    "    ],\n",
    "  'пицца': [\n",
    "     {'ingridient_name': 'сыр', 'quantity': 20, 'measure': 'гр'},\n",
    "     {'ingridient_name': 'колбаса', 'quantity': 30, 'measure': 'гр'},\n",
    "     {'ingridient_name': 'бекон', 'quantity': 30, 'measure': 'гр'},\n",
    "     {'ingridient_name': 'оливки', 'quantity': 10, 'measure': 'гр'},\n",
    "     {'ingridient_name': 'томаты', 'quantity': 20, 'measure': 'гр'},\n",
    "     {'ingridient_name': 'тесто', 'quantity': 100, 'measure': 'гр'},   \n",
    "    ],\n",
    "  'лимонад': [\n",
    "     {'ingridient_name': 'лимон', 'quantity': 1, 'measure': 'шт'},\n",
    "     {'ingridient_name': 'вода', 'quantity': 200, 'measure': 'мл'},\n",
    "     {'ingridient_name': 'сахар', 'quantity': 10, 'measure': 'гр'},\n",
    "     {'ingridient_name': 'лайм', 'quantity': 20, 'measure': 'гр'},    \n",
    "    ]\n",
    "}\n",
    "\n",
    "# print(list(cook_book.items()))\n",
    "\n",
    "persons = int(input(\"Введите кол-во персон: \"))\n",
    "print()\n",
    "\n",
    "\n",
    "for dishes, products in cook_book.items():\n",
    "    print(dishes.capitalize())\n",
    "    \n",
    "    for line in products:\n",
    "        meal, weight, gr = line.values()\n",
    "#         weight = weight\n",
    "        weight = weight * persons\n",
    "        print(meal, weight, gr)\n",
    "    \n",
    "    print('')"
   ]
  }
 ],
 "metadata": {
  "kernelspec": {
   "display_name": "Python 3",
   "language": "python",
   "name": "python3"
  },
  "language_info": {
   "codemirror_mode": {
    "name": "ipython",
    "version": 3
   },
   "file_extension": ".py",
   "mimetype": "text/x-python",
   "name": "python",
   "nbconvert_exporter": "python",
   "pygments_lexer": "ipython3",
   "version": "3.8.5"
  }
 },
 "nbformat": 4,
 "nbformat_minor": 4
}

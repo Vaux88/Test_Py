{
 "cells": [
  {
   "cell_type": "markdown",
   "metadata": {},
   "source": [
    "### Задача 1"
   ]
  },
  {
   "cell_type": "code",
   "execution_count": 34,
   "metadata": {},
   "outputs": [],
   "source": [
    "documents = [\n",
    " {'type': 'passport', 'number': '2207 876234', 'name': 'Василий Гупкин'},\n",
    " {'type': 'invoice', 'number': '11-2', 'name': 'Геннадий Покемонов'},\n",
    " {'type': 'insurance', 'number': '10006', 'name': 'Аристарх Павлов'}\n",
    "]\n",
    "\n",
    "directories = {\n",
    " '1': ['2207 876234', '11-2'],\n",
    " '2': ['10006'],\n",
    " '3': []\n",
    "}"
   ]
  },
  {
   "cell_type": "markdown",
   "metadata": {},
   "source": [
    "### Пункт 1. Пользователь по команде \"p\" может узнать владельца документа по его номеру"
   ]
  },
  {
   "cell_type": "code",
   "execution_count": 41,
   "metadata": {},
   "outputs": [
    {
     "name": "stdout",
     "output_type": "stream",
     "text": [
      "Введите номер документа: 10006\n",
      "Аристарх Павлов\n"
     ]
    }
   ],
   "source": [
    "def name(documents):\n",
    "    found = False\n",
    "    num = input(\"Введите номер документа: \")\n",
    "    for doc in documents:\n",
    "        if \"number\" in doc.keys() and doc[\"number\"] == num:\n",
    "            print(doc[\"name\"])\n",
    "            found = True\n",
    "\n",
    "    if not found:\n",
    "        print(\"Документ не найден в базе\")\n",
    "\n",
    "name(documents)"
   ]
  },
  {
   "cell_type": "markdown",
   "metadata": {},
   "source": [
    "### Пункт 2. Пользователь по команде \"s\" может по номеру документа узнать на какой полке он хранится"
   ]
  },
  {
   "cell_type": "code",
   "execution_count": null,
   "metadata": {},
   "outputs": [],
   "source": [
    "def shelf(directories):\n",
    "    found = False\n",
    "    num = input(\"Введите номер документа: \")\n",
    "    for doc in directories.items():\n",
    "        if num in doc[1]:\n",
    "            print(\"Документ хранится на полке: \",doc[0])\n",
    "            found = True\n",
    "    if not found:\n",
    "        print(\"Документ не найден в базе\")\n",
    "\n",
    "shelf(directories)"
   ]
  },
  {
   "cell_type": "markdown",
   "metadata": {},
   "source": [
    "### Пункт 3. Пользователь по команде \"l\" может увидеть полную информацию по всем документам"
   ]
  },
  {
   "cell_type": "code",
   "execution_count": null,
   "metadata": {},
   "outputs": [],
   "source": [
    "def info (documents, directories):\n",
    "    for shelf in directories:\n",
    "        for num in directories[shelf]:\n",
    "            found = next(e for e in documents if e['number'] == num)\n",
    "            print(f'№: {num}, тип: {found[\"type\"]}, владелец: {found[\"name\"]}, полка хранения: {shelf}')\n",
    "            \n",
    "info (documents, directories)\n",
    "    "
   ]
  },
  {
   "cell_type": "markdown",
   "metadata": {},
   "source": [
    "### Пункт 4. Пользователь по команде \"ads\" может добавить новую полку"
   ]
  },
  {
   "cell_type": "code",
   "execution_count": null,
   "metadata": {},
   "outputs": [],
   "source": [
    "def ads():\n",
    "    shelf = input(\"Введите номер полки: \")\n",
    "    for direct in directories.items():\n",
    "        if shelf in direct[0]:\n",
    "            print(f\"Такая полка уже существует. Текущий перечень полок: {list(directories.keys())}\")\n",
    "            break\n",
    "    else:\n",
    "        directories[shelf] = []\n",
    "        print(f\"Полка добавлена. Текущий перечень полок: {list(directories.keys())}\")\n",
    "\n",
    "ads()  \n"
   ]
  },
  {
   "cell_type": "markdown",
   "metadata": {},
   "source": [
    "### Пункт 5. Пользователь по команде \"ds\" может удалить существующую полку из данных"
   ]
  },
  {
   "cell_type": "code",
   "execution_count": null,
   "metadata": {},
   "outputs": [],
   "source": [
    "def ds():\n",
    "    number = input(\"Введите номер полки: \")\n",
    "    \n",
    "    if number in directories:\n",
    "        if len(directories[number]) > 0:\n",
    "            return 'На полке есть документы, удалите их перед удалением полки. Текущий перечень полок: ' + ', '.join(directories.keys())\n",
    "        del directories[number]\n",
    "        print('Полка удалена. Текущий перечень полок: ' + ', '.join(directories.keys()))\n",
    "    print ('Такой полки не существует. Текущий перечень полок:' + ', '.join(directories.keys()))\n",
    "    \n",
    "ds()"
   ]
  },
  {
   "cell_type": "code",
   "execution_count": 44,
   "metadata": {},
   "outputs": [],
   "source": [
    "def main(documents, directories):  \n",
    "\n",
    "# Олег, есть вопрос. Не совсем нравится вывод в этом скрипте. У меня почему-то вконце каждой функции вываливается None. \n",
    "# не совсем разобрался где именно ставить break (или возможно return???)\n",
    "\n",
    "    while True:\n",
    "        user_input = input('Введите команду: ')\n",
    "        if user_input == 'p':\n",
    "            print(name(documents))\n",
    "            print()\n",
    "        elif user_input == 's':\n",
    "            print(shelf(directories))\n",
    "            print()\n",
    "        elif user_input == 'i':\n",
    "            print(info (documents, directories))\n",
    "            print()\n",
    "        elif user_input == 'ads':\n",
    "            print(ads())\n",
    "            print()\n",
    "        elif user_input == 'ds':\n",
    "            print(ds())\n",
    "            print()\n",
    "        elif user_input == 'q':\n",
    "            print('До свидания!')\n",
    "            break"
   ]
  },
  {
   "cell_type": "code",
   "execution_count": 45,
   "metadata": {},
   "outputs": [
    {
     "name": "stdout",
     "output_type": "stream",
     "text": [
      "Введите команду: p\n",
      "Введите номер документа: 10006\n",
      "Аристарх Павлов\n",
      "None\n",
      "\n",
      "Введите команду: i\n",
      "№: 2207 876234, тип: passport, владелец: Василий Гупкин, полка хранения: 1\n",
      "№: 11-2, тип: invoice, владелец: Геннадий Покемонов, полка хранения: 1\n",
      "№: 10006, тип: insurance, владелец: Аристарх Павлов, полка хранения: 2\n",
      "None\n",
      "\n",
      "Введите команду: ads\n",
      "Введите номер полки: 2\n",
      "Такая полка уже существует. Текущий перечень полок: ['1', '2', '3']\n",
      "None\n",
      "\n",
      "Введите команду: q\n",
      "До свидания!\n"
     ]
    }
   ],
   "source": [
    "main(documents, directories)"
   ]
  }
 ],
 "metadata": {
  "kernelspec": {
   "display_name": "Python 3",
   "language": "python",
   "name": "python3"
  },
  "language_info": {
   "codemirror_mode": {
    "name": "ipython",
    "version": 3
   },
   "file_extension": ".py",
   "mimetype": "text/x-python",
   "name": "python",
   "nbconvert_exporter": "python",
   "pygments_lexer": "ipython3",
   "version": "3.8.5"
  }
 },
 "nbformat": 4,
 "nbformat_minor": 4
}

{
 "cells": [
  {
   "cell_type": "markdown",
   "metadata": {},
   "source": [
    "### Задание 1"
   ]
  },
  {
   "cell_type": "code",
   "execution_count": 36,
   "metadata": {},
   "outputs": [],
   "source": [
    "# Для каждой газеты из списка напишите формат указанной даты для перевода в объект datetime\n",
    "\n",
    "from datetime import datetime\n",
    "\n",
    "DATE_FORMATS = ['%A, %B %d, %Y', '%A, %m.%d.%y', '%A, %d %B %Y']\n",
    "\n",
    "def convert_to_date(*data):\n",
    "    for format_ in DATE_FORMATS:\n",
    "        try:\n",
    "            return datetime.strptime(data, format_)\n",
    "        except:\n",
    "            continue\n",
    "            \n",
    "    print('Странный формат даты!', data)\n",
    "    \n",
    "    "
   ]
  },
  {
   "cell_type": "code",
   "execution_count": 37,
   "metadata": {},
   "outputs": [],
   "source": [
    "The_Moscow_Times = 'Wednesday, October 2, 2002'\n",
    "The_Guardian = 'Friday, 11.10.13'\n",
    "Daily_News = 'Thursday, 18 August 1977'"
   ]
  },
  {
   "cell_type": "code",
   "execution_count": 46,
   "metadata": {},
   "outputs": [
    {
     "ename": "TypeError",
     "evalue": "convert_to_date() takes 1 positional argument but 3 were given",
     "output_type": "error",
     "traceback": [
      "\u001b[1;31m---------------------------------------------------------------------------\u001b[0m",
      "\u001b[1;31mTypeError\u001b[0m                                 Traceback (most recent call last)",
      "\u001b[1;32m<ipython-input-46-9e2b97281336>\u001b[0m in \u001b[0;36m<module>\u001b[1;34m\u001b[0m\n\u001b[1;32m----> 1\u001b[1;33m \u001b[0mconvert_to_date\u001b[0m\u001b[1;33m(\u001b[0m\u001b[0mDaily_News\u001b[0m\u001b[1;33m,\u001b[0m \u001b[0mThe_Moscow_Times\u001b[0m\u001b[1;33m,\u001b[0m \u001b[0mDaily_News\u001b[0m\u001b[1;33m)\u001b[0m\u001b[1;33m\u001b[0m\u001b[1;33m\u001b[0m\u001b[0m\n\u001b[0m\u001b[0;32m      2\u001b[0m \u001b[1;31m# почему в данном случае выбивает ошибку? Яже в функции указал, что у меня может быть много аргументов?\u001b[0m\u001b[1;33m\u001b[0m\u001b[1;33m\u001b[0m\u001b[1;33m\u001b[0m\u001b[0m\n",
      "\u001b[1;31mTypeError\u001b[0m: convert_to_date() takes 1 positional argument but 3 were given"
     ]
    }
   ],
   "source": [
    "convert_to_date(Daily_News, The_Moscow_Times, Daily_News)  \n",
    "# почему в данном случае выбивает ошибку? Я же в функции указал, что у меня может быть много аргументов через *args?"
   ]
  },
  {
   "cell_type": "code",
   "execution_count": 47,
   "metadata": {},
   "outputs": [
    {
     "data": {
      "text/plain": [
       "datetime.datetime(1977, 8, 18, 0, 0)"
      ]
     },
     "execution_count": 47,
     "metadata": {},
     "output_type": "execute_result"
    }
   ],
   "source": [
    "convert_to_date(Daily_News)"
   ]
  },
  {
   "cell_type": "markdown",
   "metadata": {},
   "source": [
    "### Задание 2"
   ]
  },
  {
   "cell_type": "code",
   "execution_count": 13,
   "metadata": {},
   "outputs": [
    {
     "name": "stdout",
     "output_type": "stream",
     "text": [
      "дата \"2018-04-02\" корректна: True\n",
      "дата \"2018-02-29\" корректна: False\n",
      "дата \"2018-19-02\" корректна: False\n"
     ]
    }
   ],
   "source": [
    "# Напишите функцию, которая проверяет эти даты на корректность\n",
    "stream = ['2018-04-02', '2018-02-29', '2018-19-02']\n",
    "from datetime import datetime\n",
    "\n",
    "def check_date(any_date):\n",
    "    try:\n",
    "        datetime.strptime(any_date, '%Y-%m-%d')\n",
    "        return print('дата \"{}\" корректна: {}'.format(any_date, True))\n",
    "    except ValueError:\n",
    "        return print('дата \"{}\" корректна: {}'.format(any_date, False))\n",
    "\n",
    "for dt in stream:\n",
    "    check_date(dt)\n",
    "\n"
   ]
  },
  {
   "cell_type": "markdown",
   "metadata": {},
   "source": [
    "### Задание 3"
   ]
  },
  {
   "cell_type": "code",
   "execution_count": 33,
   "metadata": {},
   "outputs": [
    {
     "name": "stdout",
     "output_type": "stream",
     "text": [
      "2021-01-01\n",
      "2021-01-02\n",
      "2021-01-03\n",
      "2021-01-04\n",
      "2021-01-05\n",
      "2021-01-06\n",
      "2021-01-07\n",
      "2021-01-08\n",
      "2021-01-09\n",
      "2021-01-10\n",
      "2021-01-11\n",
      "2021-01-12\n",
      "2021-01-13\n",
      "2021-01-14\n",
      "2021-01-15\n"
     ]
    }
   ],
   "source": [
    "# Напишите функцию date_range, которая возвращает список дат за период от start_date до end_date\n",
    "from datetime import timedelta\n",
    "\n",
    "start_date = '2021-01-01'\n",
    "end_date = '2021-01-15'\n",
    "blank_list = []\n",
    "\n",
    "def datediff_():\n",
    "    start_date_dt = datetime.strptime(start_date, '%Y-%m-%d')\n",
    "    end_date_dt = datetime.strptime(end_date, '%Y-%m-%d')\n",
    "    \n",
    "    if start_date_dt <= end_date_dt:\n",
    "        while start_date_dt <= end_date_dt:\n",
    "            print(start_date_dt.strftime('%Y-%m-%d'))\n",
    "            start_date_dt += timedelta(days=1)\n",
    "            \n",
    "    else:\n",
    "        print(blank_list)\n",
    "        \n",
    "        \n",
    "datediff_()\n"
   ]
  },
  {
   "cell_type": "code",
   "execution_count": null,
   "metadata": {},
   "outputs": [],
   "source": []
  }
 ],
 "metadata": {
  "kernelspec": {
   "display_name": "Python 3",
   "language": "python",
   "name": "python3"
  },
  "language_info": {
   "codemirror_mode": {
    "name": "ipython",
    "version": 3
   },
   "file_extension": ".py",
   "mimetype": "text/x-python",
   "name": "python",
   "nbconvert_exporter": "python",
   "pygments_lexer": "ipython3",
   "version": "3.8.5"
  }
 },
 "nbformat": 4,
 "nbformat_minor": 4
}

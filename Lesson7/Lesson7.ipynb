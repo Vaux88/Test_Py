{
 "cells": [
  {
   "cell_type": "markdown",
   "metadata": {},
   "source": [
    "### Задание 1"
   ]
  },
  {
   "cell_type": "code",
   "execution_count": 12,
   "metadata": {},
   "outputs": [
    {
     "name": "stdout",
     "output_type": "stream",
     "text": [
      "<class 'datetime.datetime'>\n",
      "2002-10-02 00:00:00\n",
      "\n",
      "<class 'datetime.datetime'>\n",
      "2013-11-10 00:00:00\n",
      "\n",
      "<class 'datetime.datetime'>\n",
      "1977-08-18 00:00:00\n",
      "\n"
     ]
    }
   ],
   "source": [
    "# Для каждой газеты из списка напишите формат указанной даты для перевода в объект datetime\n",
    "\n",
    "from datetime import datetime\n",
    "\n",
    "The_Moscow_Times = 'Wednesday, October 2, 2002'\n",
    "The_Guardian = 'Friday, 11.10.13'\n",
    "Daily_News = 'Thursday, 18 August 1977'\n",
    "\n",
    "# data_ = ['Wednesday, October 2, 2002', 'Friday, 11.10.13', 'Thursday, 18 August 1977']\n",
    "\n",
    "\n",
    "DATE_FORMATS = ['%A, %B %d, %Y', '%A, %m.%d.%y', '%A, %d %B %Y']\n",
    "\n",
    "def convert_to_date(data):\n",
    "    for format_ in DATE_FORMATS:\n",
    "            try:\n",
    "                return datetime.strptime(data, format_)\n",
    "            except:\n",
    "                continue\n",
    "#     raise ValueError('Странный формат даты!')\n",
    "\n",
    "print(type(convert_to_date(The_Moscow_Times)))\n",
    "print(convert_to_date(The_Moscow_Times))\n",
    "print()\n",
    "print(type(convert_to_date(The_Guardian)))\n",
    "print(convert_to_date(The_Guardian))\n",
    "print()\n",
    "print(type(convert_to_date(Daily_News)))\n",
    "print(convert_to_date(Daily_News))\n",
    "print()"
   ]
  },
  {
   "cell_type": "markdown",
   "metadata": {},
   "source": [
    "### Задание 2"
   ]
  },
  {
   "cell_type": "code",
   "execution_count": 3,
   "metadata": {},
   "outputs": [
    {
     "name": "stdout",
     "output_type": "stream",
     "text": [
      "дата \"2018-04-02\" корректна: True\n",
      "дата \"2018-02-29\" корректна: False\n",
      "дата \"2018-19-02\" корректна: False\n"
     ]
    }
   ],
   "source": [
    "# Напишите функцию, которая проверяет эти даты на корректность\n",
    "stream = ['2018-04-02', '2018-02-29', '2018-19-02']\n",
    "from datetime import datetime\n",
    "\n",
    "def check_date(any_date):\n",
    "    try:\n",
    "        datetime.strptime(any_date, '%Y-%m-%d')\n",
    "        return print('дата \"{}\" корректна: {}'.format(any_date, True))\n",
    "    except ValueError:\n",
    "        return print('дата \"{}\" корректна: {}'.format(any_date, False))\n",
    "\n",
    "for dt in stream:\n",
    "    check_date(dt)\n",
    "\n"
   ]
  },
  {
   "cell_type": "markdown",
   "metadata": {},
   "source": [
    "### Задание 3"
   ]
  },
  {
   "cell_type": "code",
   "execution_count": 24,
   "metadata": {},
   "outputs": [
    {
     "name": "stdout",
     "output_type": "stream",
     "text": [
      "[]\n"
     ]
    }
   ],
   "source": [
    "# Напишите функцию date_range, которая возвращает список дат за период от start_date до end_date\n",
    "from datetime import timedelta\n",
    "\n",
    "start_date = '2021-01-01'\n",
    "end_date = '2021-01-32'\n",
    "blank_list = []\n",
    "\n",
    "def datediff_():\n",
    "    start_date_dt = datetime.strptime(start_date, '%Y-%m-%d')\n",
    "    end_date_dt = datetime.strptime(end_date, '%Y-%m-%d')\n",
    "    \n",
    "    if start_date_dt <= end_date_dt:\n",
    "        while start_date_dt <= end_date_dt:\n",
    "            print(start_date_dt.strftime('%Y-%m-%d'))\n",
    "            start_date_dt += timedelta(days=1)\n",
    "            \n",
    "    else:\n",
    "        print(blank_list)\n",
    "\n",
    "    \n",
    "try:\n",
    "    datediff_()\n",
    "except:\n",
    "    print(blank_list)    \n"
   ]
  },
  {
   "cell_type": "code",
   "execution_count": null,
   "metadata": {},
   "outputs": [],
   "source": []
  }
 ],
 "metadata": {
  "kernelspec": {
   "display_name": "Python 3",
   "language": "python",
   "name": "python3"
  },
  "language_info": {
   "codemirror_mode": {
    "name": "ipython",
    "version": 3
   },
   "file_extension": ".py",
   "mimetype": "text/x-python",
   "name": "python",
   "nbconvert_exporter": "python",
   "pygments_lexer": "ipython3",
   "version": "3.8.5"
  }
 },
 "nbformat": 4,
 "nbformat_minor": 4
}
